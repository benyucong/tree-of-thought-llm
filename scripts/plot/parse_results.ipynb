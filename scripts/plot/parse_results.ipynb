{
 "cells": [
  {
   "cell_type": "code",
   "execution_count": 1,
   "id": "3107649d-4d00-4a5b-bf72-183e2722c014",
   "metadata": {},
   "outputs": [],
   "source": [
    "# !pip install transformers==4.41.2"
   ]
  },
  {
   "cell_type": "code",
   "execution_count": null,
   "id": "9aa07ced-d62a-49c6-bab6-1a6627ff18e5",
   "metadata": {},
   "outputs": [
    {
     "name": "stderr",
     "output_type": "stream",
     "text": [
      "/home/congyu/tree-of-thought-llm/venv/lib/python3.10/site-packages/tqdm/auto.py:21: TqdmWarning: IProgress not found. Please update jupyter and ipywidgets. See https://ipywidgets.readthedocs.io/en/stable/user_install.html\n",
      "  from .autonotebook import tqdm as notebook_tqdm\n",
      "None of PyTorch, TensorFlow >= 2.0, or Flax have been found. Models won't be available and only tokenizers, configuration and file/data utilities can be used.\n"
     ]
    }
   ],
   "source": [
    "import json\n",
    "import pandas as pd\n",
    "import seaborn as sns\n",
    "import tiktoken\n",
    "\n",
    "default_model = \"gpt-4\"\n",
    "encoding = tiktoken.encoding_for_model(default_model)"
   ]
  },
  {
   "cell_type": "code",
   "execution_count": 3,
   "id": "7fe191db-f02a-481e-b591-d72a0649b1ba",
   "metadata": {},
   "outputs": [],
   "source": [
    "with open('/home/congyu/tree-of-thought-llm/logs/old_text/gpt-4_1.0_generate_sample_select_greedy_sample5_start0_end100.json', 'r') as f:\n",
    "    data = json.load(f)"
   ]
  },
  {
   "cell_type": "code",
   "execution_count": null,
   "id": "b5c8a7ce-4e0c-4593-8f32-d20a9cff7e6e",
   "metadata": {},
   "outputs": [],
   "source": [
    "# path_idx: 0-4\n",
    "path_idx = 2\n",
    "# step_idx: 0-1\n",
    "step_idx = 0\n",
    "new_ys = data[path_idx][\"steps\"][step_idx][\"new_ys\"]"
   ]
  },
  {
   "cell_type": "code",
   "execution_count": 29,
   "id": "78c50b4c-e76c-4655-bad1-f10d6ae6f915",
   "metadata": {},
   "outputs": [],
   "source": [
    "def get_length_and_num_tokens(inp):\n",
    "    idx, text = inp\n",
    "    return {'child_id': str(idx), 'text_length': len(text), 'num_tokens': len(encoding.encode(text))}\n",
    "\n",
    "text_lengths = list(map(get_length_and_num_tokens, enumerate(new_ys)))"
   ]
  },
  {
   "cell_type": "code",
   "execution_count": 30,
   "id": "76d2b9c5-b269-410e-92f5-12554dd7738b",
   "metadata": {},
   "outputs": [],
   "source": [
    "df = pd.DataFrame(text_lengths)"
   ]
  },
  {
   "cell_type": "code",
   "execution_count": 31,
   "id": "f79b030d-b5a9-43b4-9b19-4ece4709b547",
   "metadata": {},
   "outputs": [
    {
     "data": {
      "text/html": [
       "<div>\n",
       "<style scoped>\n",
       "    .dataframe tbody tr th:only-of-type {\n",
       "        vertical-align: middle;\n",
       "    }\n",
       "\n",
       "    .dataframe tbody tr th {\n",
       "        vertical-align: top;\n",
       "    }\n",
       "\n",
       "    .dataframe thead th {\n",
       "        text-align: right;\n",
       "    }\n",
       "</style>\n",
       "<table border=\"1\" class=\"dataframe\">\n",
       "  <thead>\n",
       "    <tr style=\"text-align: right;\">\n",
       "      <th></th>\n",
       "      <th>child_id</th>\n",
       "      <th>text_length</th>\n",
       "      <th>num_tokens</th>\n",
       "    </tr>\n",
       "  </thead>\n",
       "  <tbody>\n",
       "    <tr>\n",
       "      <th>0</th>\n",
       "      <td>0</td>\n",
       "      <td>348</td>\n",
       "      <td>68</td>\n",
       "    </tr>\n",
       "    <tr>\n",
       "      <th>1</th>\n",
       "      <td>1</td>\n",
       "      <td>298</td>\n",
       "      <td>65</td>\n",
       "    </tr>\n",
       "    <tr>\n",
       "      <th>2</th>\n",
       "      <td>2</td>\n",
       "      <td>308</td>\n",
       "      <td>68</td>\n",
       "    </tr>\n",
       "    <tr>\n",
       "      <th>3</th>\n",
       "      <td>3</td>\n",
       "      <td>368</td>\n",
       "      <td>77</td>\n",
       "    </tr>\n",
       "    <tr>\n",
       "      <th>4</th>\n",
       "      <td>4</td>\n",
       "      <td>339</td>\n",
       "      <td>70</td>\n",
       "    </tr>\n",
       "  </tbody>\n",
       "</table>\n",
       "</div>"
      ],
      "text/plain": [
       "  child_id  text_length  num_tokens\n",
       "0        0          348          68\n",
       "1        1          298          65\n",
       "2        2          308          68\n",
       "3        3          368          77\n",
       "4        4          339          70"
      ]
     },
     "execution_count": 31,
     "metadata": {},
     "output_type": "execute_result"
    }
   ],
   "source": [
    "df"
   ]
  },
  {
   "cell_type": "code",
   "execution_count": 32,
   "id": "3c434c32-de91-4958-9fbc-7b715a7a000c",
   "metadata": {},
   "outputs": [],
   "source": [
    "df = df.melt(id_vars='child_id', var_name=\"length_type\")"
   ]
  },
  {
   "cell_type": "code",
   "execution_count": 33,
   "id": "17eb9ec7-d591-4cdf-a384-7ccf3c3591db",
   "metadata": {},
   "outputs": [],
   "source": [
    "sns.set_theme(style=\"whitegrid\")"
   ]
  },
  {
   "cell_type": "code",
   "execution_count": 34,
   "id": "952d6662-0977-4441-b58a-61ab8158c8f7",
   "metadata": {},
   "outputs": [],
   "source": [
    "import matplotlib.pyplot as plt"
   ]
  },
  {
   "cell_type": "code",
   "execution_count": 35,
   "id": "8f61e6b9-d8f0-447c-b8bb-73a1e0c3d955",
   "metadata": {},
   "outputs": [
    {
     "data": {
      "image/png": "[encoded data removed]",
      "text/plain": [
       "<Figure size 640x480 with 1 Axes>"
      ]
     },
     "metadata": {},
     "output_type": "display_data"
    }
   ],
   "source": [
    "ax = sns.scatterplot(df, style='child_id', y='value', x='length_type')\n",
    "sns.move_legend(ax, loc='upper right')"
   ]
  },
  {
   "cell_type": "code",
   "execution_count": 26,
   "id": "dc133825-486c-40d8-b0bf-b33dd3360a2f",
   "metadata": {},
   "outputs": [
    {
     "data": {
      "text/plain": [
       "\"Plan:\\n1. Introduce the idea of overcoming fears and trying something new through handstands.\\n2. Discuss an unexpected experience during an astronaut's spacewalk, relating it to the first paragraph's theme of embracing the new and unexpected.\\n3. Describe a humorous situation in a social setting, showing how the woman embraces her uniqueness and deals with unwanted situations.\\n4. Reflect on the idea that everyone's perception of an individual is different and that it's essential to be true to oneself.\\n\""
      ]
     },
     "execution_count": 26,
     "metadata": {},
     "output_type": "execute_result"
    }
   ],
   "source": [
    "new_ys[1]"
   ]
  },
  {
   "cell_type": "code",
   "execution_count": 27,
   "id": "90302178-77a5-460d-a1cc-b65777d36f4d",
   "metadata": {},
   "outputs": [
    {
     "data": {
      "text/plain": [
       "'Plan:\\n1. Introduce a character named Sarah, who is learning acrobatics.\\n2. Make her meet someone new at her classes, discuss their passion for acrobatics, and bond over their shared interests.\\n3. One day, Sarah meets this new friend at a bar, and someone tries to pick her up, leading to her using sign language to express her disinterest.\\n4. End with the idea that different people perceive us differently on the basis of our actions and words.\\n'"
      ]
     },
     "execution_count": 27,
     "metadata": {},
     "output_type": "execute_result"
    }
   ],
   "source": [
    "new_ys[0]"
   ]
  },
  {
   "cell_type": "code",
   "execution_count": null,
   "id": "4f74d14b-c313-44ec-910a-b7fd0c051c05",
   "metadata": {},
   "outputs": [],
   "source": []
  }
 ],
 "metadata": {
  "kernelspec": {
   "display_name": "venv",
   "language": "python",
   "name": "python3"
  },
  "language_info": {
   "codemirror_mode": {
    "name": "ipython",
    "version": 3
   },
   "file_extension": ".py",
   "mimetype": "text/x-python",
   "name": "python",
   "nbconvert_exporter": "python",
   "pygments_lexer": "ipython3",
   "version": "3.10.12"
  }
 },
 "nbformat": 4,
 "nbformat_minor": 5
}
