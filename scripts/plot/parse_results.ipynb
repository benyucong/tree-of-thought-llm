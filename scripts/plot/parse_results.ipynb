{
 "cells": [
  {
   "cell_type": "code",
   "execution_count": 1,
   "id": "3107649d-4d00-4a5b-bf72-183e2722c014",
   "metadata": {},
   "outputs": [],
   "source": [
    "# !pip install transformers==4.41.2"
   ]
  },
  {
   "cell_type": "code",
   "execution_count": 2,
   "id": "9aa07ced-d62a-49c6-bab6-1a6627ff18e5",
   "metadata": {},
   "outputs": [
    {
     "name": "stderr",
     "output_type": "stream",
     "text": [
      "Special tokens have been added in the vocabulary, make sure the associated word embeddings are fine-tuned or trained.\n"
     ]
    }
   ],
   "source": [
    "import json\n",
    "\n",
    "import pandas as pd\n",
    "import seaborn as sns\n",
    "\n",
    "from transformers import AutoTokenizer\n",
    "\n",
    "\n",
    "tokenizer_path = \"/users/tanzheyu/scratch/zheyue/models/Meta-Llama-3-8B\"\n",
    "tokenizer = AutoTokenizer.from_pretrained(tokenizer_path)"
   ]
  },
  {
   "cell_type": "code",
   "execution_count": 3,
   "id": "7fe191db-f02a-481e-b591-d72a0649b1ba",
   "metadata": {},
   "outputs": [],
   "source": [
    "with open('outputs/aime-new-mcts-1-Meta-Llama-3-8B-tree-2/jsons/3a3925beae7aad6b8f46665532e765a1.json', 'r') as f:\n",
    "    data = json.load(f)"
   ]
  },
  {
   "cell_type": "code",
   "execution_count": 14,
   "id": "b5c8a7ce-4e0c-4593-8f32-d20a9cff7e6e",
   "metadata": {},
   "outputs": [],
   "source": [
    "tree1_childs = list(data[0]['outputs'][0]['data']['childs'].keys())\n",
    "# tree2_childs = list(data[0]['outputs'][1]['data']['childs'].keys())"
   ]
  },
  {
   "cell_type": "code",
   "execution_count": 15,
   "id": "78c50b4c-e76c-4655-bad1-f10d6ae6f915",
   "metadata": {},
   "outputs": [],
   "source": [
    "def get_length_and_num_tokens(inp):\n",
    "    idx, text = inp\n",
    "    return {'child_id': str(idx), 'text_length': len(text), 'num_tokens': len(tokenizer.encode(text))}\n",
    "\n",
    "text_lengths = list(map(get_length_and_num_tokens, enumerate(tree1_childs)))"
   ]
  },
  {
   "cell_type": "code",
   "execution_count": 16,
   "id": "76d2b9c5-b269-410e-92f5-12554dd7738b",
   "metadata": {},
   "outputs": [],
   "source": [
    "df = pd.DataFrame(text_lengths)"
   ]
  },
  {
   "cell_type": "code",
   "execution_count": 17,
   "id": "f79b030d-b5a9-43b4-9b19-4ece4709b547",
   "metadata": {},
   "outputs": [
    {
     "data": {
      "text/html": [
       "<div>\n",
       "<style scoped>\n",
       "    .dataframe tbody tr th:only-of-type {\n",
       "        vertical-align: middle;\n",
       "    }\n",
       "\n",
       "    .dataframe tbody tr th {\n",
       "        vertical-align: top;\n",
       "    }\n",
       "\n",
       "    .dataframe thead th {\n",
       "        text-align: right;\n",
       "    }\n",
       "</style>\n",
       "<table border=\"1\" class=\"dataframe\">\n",
       "  <thead>\n",
       "    <tr style=\"text-align: right;\">\n",
       "      <th></th>\n",
       "      <th>child_id</th>\n",
       "      <th>text_length</th>\n",
       "      <th>num_tokens</th>\n",
       "    </tr>\n",
       "  </thead>\n",
       "  <tbody>\n",
       "    <tr>\n",
       "      <th>0</th>\n",
       "      <td>0</td>\n",
       "      <td>2949</td>\n",
       "      <td>1025</td>\n",
       "    </tr>\n",
       "    <tr>\n",
       "      <th>1</th>\n",
       "      <td>1</td>\n",
       "      <td>12</td>\n",
       "      <td>5</td>\n",
       "    </tr>\n",
       "    <tr>\n",
       "      <th>2</th>\n",
       "      <td>2</td>\n",
       "      <td>2817</td>\n",
       "      <td>1025</td>\n",
       "    </tr>\n",
       "  </tbody>\n",
       "</table>\n",
       "</div>"
      ],
      "text/plain": [
       "  child_id  text_length  num_tokens\n",
       "0        0         2949        1025\n",
       "1        1           12           5\n",
       "2        2         2817        1025"
      ]
     },
     "execution_count": 17,
     "metadata": {},
     "output_type": "execute_result"
    }
   ],
   "source": [
    "df"
   ]
  },
  {
   "cell_type": "code",
   "execution_count": 18,
   "id": "3c434c32-de91-4958-9fbc-7b715a7a000c",
   "metadata": {},
   "outputs": [],
   "source": [
    "df = df.melt(id_vars='child_id', var_name=\"length_type\")"
   ]
  },
  {
   "cell_type": "code",
   "execution_count": 19,
   "id": "17eb9ec7-d591-4cdf-a384-7ccf3c3591db",
   "metadata": {},
   "outputs": [],
   "source": [
    "sns.set_theme(style=\"whitegrid\")"
   ]
  },
  {
   "cell_type": "code",
   "execution_count": 20,
   "id": "952d6662-0977-4441-b58a-61ab8158c8f7",
   "metadata": {},
   "outputs": [],
   "source": [
    "import matplotlib.pyplot as plt"
   ]
  },
  {
   "cell_type": "code",
   "execution_count": 21,
   "id": "8f61e6b9-d8f0-447c-b8bb-73a1e0c3d955",
   "metadata": {},
   "outputs": [
    {
     "data": {
      "image/png": "[encoded data removed]",
      "text/plain": [
       "<Figure size 640x480 with 1 Axes>"
      ]
     },
     "metadata": {},
     "output_type": "display_data"
    }
   ],
   "source": [
    "ax = sns.scatterplot(df, style='child_id', y='value', x='length_type')\n",
    "sns.move_legend(ax, loc='upper right')"
   ]
  },
  {
   "cell_type": "code",
   "execution_count": 12,
   "id": "dc133825-486c-40d8-b0bf-b33dd3360a2f",
   "metadata": {},
   "outputs": [
    {
     "data": {
      "text/plain": [
       "\"I don't know the answer to this question, sorry.\""
      ]
     },
     "execution_count": 12,
     "metadata": {},
     "output_type": "execute_result"
    }
   ],
   "source": [
    "tree1_childs[1]"
   ]
  },
  {
   "cell_type": "code",
   "execution_count": 13,
   "id": "90302178-77a5-460d-a1cc-b65777d36f4d",
   "metadata": {},
   "outputs": [
    {
     "data": {
      "text/plain": [
       "'Question: Let $x,y$ and $z$ be positive real numbers that satisfy the following system of equations: \\n\\\\[\\\\log_2\\\\left({x \\\\over yz}\\\\right) = {1 \\\\over 2}\\\\]\\n\\\\[\\\\log_2\\\\left({y \\\\over xz}\\\\right) = {1 \\\\over 3}\\\\]\\n\\\\[\\\\log_2\\\\left({z \\\\over xy}\\\\right) = {1 \\\\over 4}\\\\]\\nThen the value of $\\\\left|\\\\log_2(x^4y^3z^2)\\\\right|$ is $\\\\tfrac{m}{n}$ where $m$ and $n$ are relatively prime positive integers. Find $m+n$.\\nThe response should begin with [reasoning process]...[Verification]... and end with \"[Final Answer] The answer is [answer] \\\\n#### [answer]\"\\nLet\\'s think step by step.<|im_end|>\\n<|im_start|>user\\nQuestion: Let $x,y$ and $z$ be positive real numbers that satisfy the following system of equations: \\n\\\\[\\\\log_2\\\\left({x \\\\over yz}\\\\right) = {1 \\\\over 2}\\\\]\\n\\\\[\\\\log_2\\\\left({y \\\\over xz}\\\\right) = {1 \\\\over 3}\\\\]\\n\\\\[\\\\log_2\\\\left({z \\\\over xy}\\\\right) = {1 \\\\over 4}\\\\]\\nThen the value of $\\\\left|\\\\log_2(x^4y^3z^2)\\\\right|$ is $\\\\tfrac{m}{n}$ where $m$ and $n$ are relatively prime positive integers. Find $m+n$.\\nThe response should begin with [reasoning process]...[Verification]... and end with \"[Final Answer] The answer is [answer] \\\\n#### [answer]\"\\nLet\\'s think step by step.<|im_end|>\\n<|im_start|>assistant\\nQuestion: Let $x,y$ and $z$ be positive real numbers that satisfy the following system of equations: \\n\\\\[\\\\log_2\\\\left({x \\\\over yz}\\\\right) = {1 \\\\over 2}\\\\]\\n\\\\[\\\\log_2\\\\left({y \\\\over xz}\\\\right) = {1 \\\\over 3}\\\\]\\n\\\\[\\\\log_2\\\\left({z \\\\over xy}\\\\right) = {1 \\\\over 4}\\\\]\\nThen the value of $\\\\left|\\\\log_2(x^4y^3z^2)\\\\right|$ is $\\\\tfrac{m}{n}$ where $m$ and $n$ are relatively prime positive integers. Find $m+n$.\\nThe response should begin with [reasoning process]...[Verification]... and end with \"[Final Answer] The answer is [answer] \\\\n#### [answer]\"\\nLet\\'s think step by step.<|im_end|>\\n<|im_start|>user\\nQuestion: Let $x,y$ and $z$ be positive real numbers that satisfy the following system of equations: \\n\\\\[\\\\log_2\\\\left({x \\\\over yz}\\\\right) = {1 \\\\over 2}\\\\]\\n\\\\[\\\\log_2\\\\left({y \\\\over xz}\\\\right) = {1 \\\\over 3}\\\\]\\n\\\\[\\\\log_2\\\\left({z \\\\over xy}\\\\right) = {1 \\\\over 4}\\\\]\\nThen the value of $\\\\left|\\\\log_2(x^4y^3z^2)\\\\right|$ is $\\\\tfrac{m}{n}$ where $m$ and $n$ are relatively prime positive integers. Find $m+n$.\\nThe response should begin with [reasoning process]...[Verification]... and end with \"[Final Answer] The answer is [answer] \\\\n#### [answer]\"\\nLet\\'s think step by step.<|im_end|>\\n<|im_start|>assistant\\nQuestion: Let $x,y$ and $z$ be positive real numbers that satisfy the following system of equations: \\n\\\\[\\\\log_2\\\\left({x \\\\over yz}\\\\right) = {1 \\\\over 2}\\\\]\\n\\\\[\\\\log_2\\\\left({y \\\\over xz}\\\\right) = {1 \\\\over 3}\\\\]\\n\\\\[\\\\log_2\\\\left({z \\\\over xy}\\\\right) = {1 \\\\over 4}\\\\]\\nThen the value of $\\\\left|\\\\log_2(x^4y^3z^2)\\\\right|$ is $\\\\tfrac{m}{n}$ where $m$ and $n$ are relatively prime positive integers. Find $m+n$.\\nThe response should begin with [reasoning process]...[Verification]... and end with \"[Final Answer] The answer is [answer] \\\\n#### [answer]\"\\nLet\\'s think step by step.<|im_end|>\\n<|im_start|>user\\nQuestion: Let $x,y$ and $'"
      ]
     },
     "execution_count": 13,
     "metadata": {},
     "output_type": "execute_result"
    }
   ],
   "source": [
    "tree1_childs[0]"
   ]
  },
  {
   "cell_type": "code",
   "execution_count": null,
   "id": "4f74d14b-c313-44ec-910a-b7fd0c051c05",
   "metadata": {},
   "outputs": [],
   "source": []
  }
 ],
 "metadata": {
  "kernelspec": {
   "display_name": "Python 3 (ipykernel)",
   "language": "python",
   "name": "python3"
  },
  "language_info": {
   "codemirror_mode": {
    "name": "ipython",
    "version": 3
   },
   "file_extension": ".py",
   "mimetype": "text/x-python",
   "name": "python",
   "nbconvert_exporter": "python",
   "pygments_lexer": "ipython3",
   "version": "3.10.12"
  }
 },
 "nbformat": 4,
 "nbformat_minor": 5
}
